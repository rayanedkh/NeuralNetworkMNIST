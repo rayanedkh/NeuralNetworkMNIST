{
  "cells": [
    {
      "cell_type": "code",
      "execution_count": 3,
      "id": "149938de",
      "metadata": {
        "id": "149938de"
      },
      "outputs": [
        {
          "name": "stderr",
          "output_type": "stream",
          "text": [
            "/Users/rayanedakhlaoui/Library/Python/3.9/lib/python/site-packages/urllib3/__init__.py:35: NotOpenSSLWarning: urllib3 v2 only supports OpenSSL 1.1.1+, currently the 'ssl' module is compiled with 'LibreSSL 2.8.3'. See: https://github.com/urllib3/urllib3/issues/3020\n",
            "  warnings.warn(\n"
          ]
        }
      ],
      "source": [
        "import numpy as np\n",
        "import tensorflow as tf\n",
        "from tensorflow import keras\n",
        "from tensorflow.keras import layers\n",
        "import matplotlib.pyplot as plt"
      ]
    },
    {
      "cell_type": "markdown",
      "id": "657ee878-16b7-46ab-811d-48aebc085cf1",
      "metadata": {
        "id": "657ee878-16b7-46ab-811d-48aebc085cf1"
      },
      "source": [
        "# 1. Loading the data"
      ]
    },
    {
      "cell_type": "code",
      "execution_count": 4,
      "id": "9afc7a6a-14b1-4bf8-8cbf-f15d61a2c1ac",
      "metadata": {
        "id": "9afc7a6a-14b1-4bf8-8cbf-f15d61a2c1ac"
      },
      "outputs": [],
      "source": [
        "train_data, test_data = tf.keras.datasets.mnist.load_data(path=\"mnist.npz\")\n",
        "x_train = train_data[0].reshape(-1,784).astype(float) / 255\n",
        "y_train = train_data[1]"
      ]
    },
    {
      "cell_type": "code",
      "execution_count": 5,
      "id": "76f055f2-a9f7-4905-bab0-d2d53287b65e",
      "metadata": {
        "id": "76f055f2-a9f7-4905-bab0-d2d53287b65e",
        "outputId": "fe169641-6306-4007-c6ed-56e9d397853d"
      },
      "outputs": [
        {
          "name": "stdout",
          "output_type": "stream",
          "text": [
            "label is 1\n"
          ]
        },
        {
          "data": {
            "text/plain": [
              "<matplotlib.image.AxesImage at 0x17e50ff40>"
            ]
          },
          "execution_count": 5,
          "metadata": {},
          "output_type": "execute_result"
        },
        {
          "data": {
            "image/png": "[encoded data removed]",
            "text/plain": [
              "<Figure size 640x480 with 1 Axes>"
            ]
          },
          "metadata": {},
          "output_type": "display_data"
        }
      ],
      "source": [
        "# exploring the data\n",
        "i = np.random.randint(y_train.size)\n",
        "\n",
        "print(\"label is\", y_train[i])\n",
        "plt.imshow(train_data[0][i], cmap='gray')"
      ]
    },
    {
      "cell_type": "markdown",
      "id": "8feee3fb-8b54-4cd2-8ee1-a003d1292f8a",
      "metadata": {
        "id": "8feee3fb-8b54-4cd2-8ee1-a003d1292f8a"
      },
      "source": [
        "# 2. Building the model\n",
        "\n",
        "We use Keras to build a fully-connected neural network.\n",
        "\n",
        "For more details, see https://keras.io/guides/training_with_built_in_methods/"
      ]
    },
    {
      "cell_type": "code",
      "execution_count": 6,
      "id": "4b521b78",
      "metadata": {
        "id": "4b521b78",
        "outputId": "9f23c819-c9e5-4135-f050-8544fa4a46f8"
      },
      "outputs": [
        {
          "data": {
            "text/html": [
              "<pre style=\"white-space:pre;overflow-x:auto;line-height:normal;font-family:Menlo,'DejaVu Sans Mono',consolas,'Courier New',monospace\"><span style=\"font-weight: bold\">Model: \"mnist_model\"</span>\n",
              "</pre>\n"
            ],
            "text/plain": [
              "\u001b[1mModel: \"mnist_model\"\u001b[0m\n"
            ]
          },
          "metadata": {},
          "output_type": "display_data"
        },
        {
          "data": {
            "text/html": [
              "<pre style=\"white-space:pre;overflow-x:auto;line-height:normal;font-family:Menlo,'DejaVu Sans Mono',consolas,'Courier New',monospace\">┏━━━━━━━━━━━━━━━━━━━━━━━━━━━━━━━━━┳━━━━━━━━━━━━━━━━━━━━━━━━┳━━━━━━━━━━━━━━━┓\n",
              "┃<span style=\"font-weight: bold\"> Layer (type)                    </span>┃<span style=\"font-weight: bold\"> Output Shape           </span>┃<span style=\"font-weight: bold\">       Param # </span>┃\n",
              "┡━━━━━━━━━━━━━━━━━━━━━━━━━━━━━━━━━╇━━━━━━━━━━━━━━━━━━━━━━━━╇━━━━━━━━━━━━━━━┩\n",
              "│ digits (<span style=\"color: #0087ff; text-decoration-color: #0087ff\">InputLayer</span>)             │ (<span style=\"color: #00d7ff; text-decoration-color: #00d7ff\">None</span>, <span style=\"color: #00af00; text-decoration-color: #00af00\">784</span>)            │             <span style=\"color: #00af00; text-decoration-color: #00af00\">0</span> │\n",
              "├─────────────────────────────────┼────────────────────────┼───────────────┤\n",
              "│ dense_1 (<span style=\"color: #0087ff; text-decoration-color: #0087ff\">Dense</span>)                 │ (<span style=\"color: #00d7ff; text-decoration-color: #00d7ff\">None</span>, <span style=\"color: #00af00; text-decoration-color: #00af00\">32</span>)             │        <span style=\"color: #00af00; text-decoration-color: #00af00\">25,120</span> │\n",
              "├─────────────────────────────────┼────────────────────────┼───────────────┤\n",
              "│ dense_2 (<span style=\"color: #0087ff; text-decoration-color: #0087ff\">Dense</span>)                 │ (<span style=\"color: #00d7ff; text-decoration-color: #00d7ff\">None</span>, <span style=\"color: #00af00; text-decoration-color: #00af00\">32</span>)             │         <span style=\"color: #00af00; text-decoration-color: #00af00\">1,056</span> │\n",
              "├─────────────────────────────────┼────────────────────────┼───────────────┤\n",
              "│ predictions (<span style=\"color: #0087ff; text-decoration-color: #0087ff\">Dense</span>)             │ (<span style=\"color: #00d7ff; text-decoration-color: #00d7ff\">None</span>, <span style=\"color: #00af00; text-decoration-color: #00af00\">10</span>)             │           <span style=\"color: #00af00; text-decoration-color: #00af00\">330</span> │\n",
              "└─────────────────────────────────┴────────────────────────┴───────────────┘\n",
              "</pre>\n"
            ],
            "text/plain": [
              "┏━━━━━━━━━━━━━━━━━━━━━━━━━━━━━━━━━┳━━━━━━━━━━━━━━━━━━━━━━━━┳━━━━━━━━━━━━━━━┓\n",
              "┃\u001b[1m \u001b[0m\u001b[1mLayer (type)                   \u001b[0m\u001b[1m \u001b[0m┃\u001b[1m \u001b[0m\u001b[1mOutput Shape          \u001b[0m\u001b[1m \u001b[0m┃\u001b[1m \u001b[0m\u001b[1m      Param #\u001b[0m\u001b[1m \u001b[0m┃\n",
              "┡━━━━━━━━━━━━━━━━━━━━━━━━━━━━━━━━━╇━━━━━━━━━━━━━━━━━━━━━━━━╇━━━━━━━━━━━━━━━┩\n",
              "│ digits (\u001b[38;5;33mInputLayer\u001b[0m)             │ (\u001b[38;5;45mNone\u001b[0m, \u001b[38;5;34m784\u001b[0m)            │             \u001b[38;5;34m0\u001b[0m │\n",
              "├─────────────────────────────────┼────────────────────────┼───────────────┤\n",
              "│ dense_1 (\u001b[38;5;33mDense\u001b[0m)                 │ (\u001b[38;5;45mNone\u001b[0m, \u001b[38;5;34m32\u001b[0m)             │        \u001b[38;5;34m25,120\u001b[0m │\n",
              "├─────────────────────────────────┼────────────────────────┼───────────────┤\n",
              "│ dense_2 (\u001b[38;5;33mDense\u001b[0m)                 │ (\u001b[38;5;45mNone\u001b[0m, \u001b[38;5;34m32\u001b[0m)             │         \u001b[38;5;34m1,056\u001b[0m │\n",
              "├─────────────────────────────────┼────────────────────────┼───────────────┤\n",
              "│ predictions (\u001b[38;5;33mDense\u001b[0m)             │ (\u001b[38;5;45mNone\u001b[0m, \u001b[38;5;34m10\u001b[0m)             │           \u001b[38;5;34m330\u001b[0m │\n",
              "└─────────────────────────────────┴────────────────────────┴───────────────┘\n"
            ]
          },
          "metadata": {},
          "output_type": "display_data"
        },
        {
          "data": {
            "text/html": [
              "<pre style=\"white-space:pre;overflow-x:auto;line-height:normal;font-family:Menlo,'DejaVu Sans Mono',consolas,'Courier New',monospace\"><span style=\"font-weight: bold\"> Total params: </span><span style=\"color: #00af00; text-decoration-color: #00af00\">26,506</span> (103.54 KB)\n",
              "</pre>\n"
            ],
            "text/plain": [
              "\u001b[1m Total params: \u001b[0m\u001b[38;5;34m26,506\u001b[0m (103.54 KB)\n"
            ]
          },
          "metadata": {},
          "output_type": "display_data"
        },
        {
          "data": {
            "text/html": [
              "<pre style=\"white-space:pre;overflow-x:auto;line-height:normal;font-family:Menlo,'DejaVu Sans Mono',consolas,'Courier New',monospace\"><span style=\"font-weight: bold\"> Trainable params: </span><span style=\"color: #00af00; text-decoration-color: #00af00\">26,506</span> (103.54 KB)\n",
              "</pre>\n"
            ],
            "text/plain": [
              "\u001b[1m Trainable params: \u001b[0m\u001b[38;5;34m26,506\u001b[0m (103.54 KB)\n"
            ]
          },
          "metadata": {},
          "output_type": "display_data"
        },
        {
          "data": {
            "text/html": [
              "<pre style=\"white-space:pre;overflow-x:auto;line-height:normal;font-family:Menlo,'DejaVu Sans Mono',consolas,'Courier New',monospace\"><span style=\"font-weight: bold\"> Non-trainable params: </span><span style=\"color: #00af00; text-decoration-color: #00af00\">0</span> (0.00 B)\n",
              "</pre>\n"
            ],
            "text/plain": [
              "\u001b[1m Non-trainable params: \u001b[0m\u001b[38;5;34m0\u001b[0m (0.00 B)\n"
            ]
          },
          "metadata": {},
          "output_type": "display_data"
        }
      ],
      "source": [
        "# source : https://keras.io/guides/training_with_built_in_methods/\n",
        "\n",
        "def build_model():\n",
        "    inputs = keras.Input(shape=(784,), name=\"digits\")\n",
        "    x = layers.Dense(32, activation=\"relu\", name=\"dense_1\")(inputs)\n",
        "    x = layers.Dense(32, activation=\"relu\", name=\"dense_2\")(x)\n",
        "    outputs = layers.Dense(10, activation=\"softmax\", name=\"predictions\")(x)\n",
        "\n",
        "    model = keras.Model(inputs=inputs, outputs=outputs, name=\"mnist_model\")\n",
        "    return model\n",
        "\n",
        "model = build_model()\n",
        "\n",
        "loss = keras.losses.sparse_categorical_crossentropy\n",
        "\n",
        "model.summary()"
      ]
    },
    {
      "cell_type": "code",
      "execution_count": 7,
      "id": "b18b6bdb",
      "metadata": {
        "id": "b18b6bdb",
        "outputId": "c1058cbc-13c9-4c60-8449-3508a4a80ec8"
      },
      "outputs": [
        {
          "data": {
            "text/plain": [
              "array([5, 5, 5, 5, 5, 5, 8, 5, 5, 5, 5, 8, 7, 8, 5, 5, 8, 5, 5, 5, 5, 5,\n",
              "       5, 5, 5, 8, 5, 5, 5, 5])"
            ]
          },
          "execution_count": 7,
          "metadata": {},
          "output_type": "execute_result"
        }
      ],
      "source": [
        "# untrained model\n",
        "predicted_probas = model(x_train)\n",
        "y_pred = np.argmax(predicted_probas, 1) # the prediction is the class with highest probability\n",
        "y_pred[0:30]"
      ]
    },
    {
      "cell_type": "code",
      "execution_count": 8,
      "id": "35d74f67",
      "metadata": {
        "id": "35d74f67",
        "outputId": "50b7f44e-5353-4461-da8a-eb2947edca6f"
      },
      "outputs": [
        {
          "data": {
            "text/plain": [
              "array([5, 0, 4, 1, 9, 2, 1, 3, 1, 4, 3, 5, 3, 6, 1, 7, 2, 8, 6, 9, 4, 0,\n",
              "       9, 1, 1, 2, 4, 3, 2, 7], dtype=uint8)"
            ]
          },
          "execution_count": 8,
          "metadata": {},
          "output_type": "execute_result"
        }
      ],
      "source": [
        "# what we would like to get\n",
        "y_train[0:30]"
      ]
    },
    {
      "cell_type": "markdown",
      "id": "a2c1255b-36d0-4d05-a5a0-fa9408742b56",
      "metadata": {
        "id": "a2c1255b-36d0-4d05-a5a0-fa9408742b56"
      },
      "source": [
        "# 3. Computing gradients\n",
        "\n",
        "We are now going to implement the stochastic gradient method using the Keras functionalities.\n",
        "\n",
        "First, we need to understand how to compute gradients using auto-differentation (also called **backpropagation**)."
      ]
    },
    {
      "cell_type": "code",
      "execution_count": 9,
      "id": "e7cbc050-6044-4149-9354-0d3870837d82",
      "metadata": {
        "id": "e7cbc050-6044-4149-9354-0d3870837d82"
      },
      "outputs": [],
      "source": [
        "# Source: https://keras.io/guides/writing_a_custom_training_loop_in_tensorflow/\n",
        "\n",
        "# Example of gradient computation using automatic differentiation\n",
        "\n",
        "# selecting a batch\n",
        "x_train_batch = x_train[:8]\n",
        "y_train_batch = y_train[:8]\n",
        "\n",
        "# Open a GradientTape to record the operations run\n",
        "# during the forward pass, which enables auto-differentiation.\n",
        "with tf.GradientTape() as tape:\n",
        "        # Run the forward pass of the layer.\n",
        "        # The operations that the layer applies\n",
        "        # to its inputs are going to be recorded\n",
        "        # on the GradientTape.\n",
        "\n",
        "        logits = model(x_train_batch)  # Logits for this minibatch (the logits are the name we give to the Neural Network output)\n",
        "\n",
        "        # Compute the loss value for this minibatch.\n",
        "        loss_value = loss(y_train_batch, logits)\n",
        "\n",
        "# Use the gradient tape to automatically retrieve\n",
        "# the gradients of the trainable variables with respect to the loss.\n",
        "grad = tape.gradient(loss_value, model.trainable_weights)"
      ]
    },
    {
      "cell_type": "markdown",
      "id": "f2f189a1-5cec-4723-93fc-8693ec8d6a5c",
      "metadata": {
        "id": "f2f189a1-5cec-4723-93fc-8693ec8d6a5c"
      },
      "source": [
        "We also define two important helper functions."
      ]
    },
    {
      "cell_type": "code",
      "execution_count": 10,
      "id": "dab2abd2-91e5-4b9e-a863-e1e3ea3dcd64",
      "metadata": {
        "id": "dab2abd2-91e5-4b9e-a863-e1e3ea3dcd64"
      },
      "outputs": [],
      "source": [
        "## update the weights by adding real_factor * update\n",
        "def update_weights(model, update, real_factor = 1.):\n",
        "    new_weights = model.trainable_weights.copy()\n",
        "\n",
        "    # iterate over all layers\n",
        "    for i in range(len(new_weights)):\n",
        "        new_weights[i] = new_weights[i] + real_factor * update[i]\n",
        "\n",
        "    model.set_weights(new_weights)\n",
        "\n",
        "\n",
        "# Evaluate model\n",
        "def mean_loss(model, X, Y):\n",
        "    logits = model(X)\n",
        "    return np.mean(loss(Y, logits))"
      ]
    },
    {
      "cell_type": "code",
      "execution_count": 11,
      "id": "9c11dcf5-bcd8-403b-ae60-41c755b5c5ec",
      "metadata": {
        "id": "9c11dcf5-bcd8-403b-ae60-41c755b5c5ec",
        "outputId": "ec483065-f5f5-455e-ed0a-734e1b90da45"
      },
      "outputs": [
        {
          "data": {
            "text/plain": [
              "2.3235319"
            ]
          },
          "execution_count": 11,
          "metadata": {},
          "output_type": "execute_result"
        }
      ],
      "source": [
        "# evaluating the train loss on the whole dataset\n",
        "# this is a costly operation, use sparsely\n",
        "mean_loss(model, x_train, y_train)"
      ]
    },
    {
      "cell_type": "markdown",
      "id": "ae0785ce-c5e2-4103-b4a8-1b10df2abf4d",
      "metadata": {
        "id": "ae0785ce-c5e2-4103-b4a8-1b10df2abf4d"
      },
      "source": [
        "# 4. Training the model"
      ]
    },
    {
      "cell_type": "markdown",
      "id": "a9d94ee4",
      "metadata": {},
      "source": [
        "### Question 4.1 How many optimization variables are we going to train using this model?\n",
        "##### Il y'a 26,506 trainable parameters."
      ]
    },
    {
      "cell_type": "code",
      "execution_count": 12,
      "id": "8a3ecd21",
      "metadata": {
        "id": "8a3ecd21"
      },
      "outputs": [],
      "source": [
        "#Question 5.1: SGD\n",
        "def SGD(model, x_train, y_train, learning_rate, epochs=1, batch_size=1):\n",
        "    dataset_size = x_train.shape[0]\n",
        "    loss_iterations = []\n",
        "    for epoch in range(epochs):\n",
        "        print(f\"Epoch {epoch+1}/{epochs}\")\n",
        "        indices = np.arange(dataset_size)\n",
        "        np.random.shuffle(indices)\n",
        "        x_train = x_train[indices]\n",
        "        y_train = y_train[indices]\n",
        "\n",
        "        for start_idx in range(0, dataset_size, batch_size):\n",
        "            end_idx = min(start_idx + batch_size, dataset_size)\n",
        "            x_batch = x_train[start_idx:end_idx]\n",
        "            y_batch = y_train[start_idx:end_idx]\n",
        "\n",
        "            with tf.GradientTape() as tape:\n",
        "                logits = model(x_batch)\n",
        "                loss_value = loss(y_batch, logits)\n",
        "                loss_iterations.append(np.mean(loss_value))\n",
        "            grads = tape.gradient(loss_value, model.trainable_weights)\n",
        "            update_weights(model, grads, -learning_rate)\n",
        "\n",
        "        # Optionally, print the loss at the end of each epoch\n",
        "        train_loss = mean_loss(model, x_train, y_train)\n",
        "        print(f\"Training loss: {train_loss:.4f}\")\n",
        "    return loss_iterations\n"
      ]
    },
    {
      "cell_type": "code",
      "execution_count": 13,
      "id": "9d9bf5cc",
      "metadata": {
        "id": "9d9bf5cc",
        "outputId": "eaa785ce-427f-4ef6-bc02-74a61c7cf5f1"
      },
      "outputs": [
        {
          "name": "stdout",
          "output_type": "stream",
          "text": [
            "Epoch 1/5\n",
            "Training loss: 0.1707\n",
            "Epoch 2/5\n",
            "Training loss: 0.1352\n",
            "Epoch 3/5\n",
            "Training loss: 0.1539\n",
            "Epoch 4/5\n",
            "Training loss: 0.0898\n",
            "Epoch 5/5\n",
            "Training loss: 0.0870\n",
            "\u001b[1m313/313\u001b[0m \u001b[32m━━━━━━━━━━━━━━━━━━━━\u001b[0m\u001b[37m\u001b[0m \u001b[1m1s\u001b[0m 1ms/step\n",
            "Test accuracy: 96.08%\n"
          ]
        }
      ],
      "source": [
        "# initialize model\n",
        "model = build_model()\n",
        "\n",
        "# Charger les données MNIST\n",
        "(train_images, train_labels), (test_images, test_labels) = tf.keras.datasets.mnist.load_data()\n",
        "\n",
        "x_test = test_images.reshape(-1, 784).astype(float) / 255.0\n",
        "y_test = test_labels\n",
        "\n",
        "# Hyperparamètres\n",
        "learning_rate = 0.01\n",
        "epochs = 5\n",
        "batch_size = 32\n",
        "\n",
        "# run SGD\n",
        "SGD(model, x_train, y_train, learning_rate, epochs=epochs, batch_size=batch_size)\n",
        "\n",
        "# Prédictions sur l'ensemble de test\n",
        "test_logits = model.predict(x_test)\n",
        "test_predictions = np.argmax(test_logits, axis=1)\n",
        "\n",
        "# Calcul de l'accuracy\n",
        "accuracy = np.mean(test_predictions == y_test)\n",
        "print(f\"Test accuracy: {accuracy * 100:.2f}%\")"
      ]
    },
    {
      "cell_type": "code",
      "execution_count": 14,
      "id": "b628e1b7",
      "metadata": {},
      "outputs": [
        {
          "name": "stdout",
          "output_type": "stream",
          "text": [
            "Epoch 1/1\n",
            "Training loss: 2.3107\n",
            "Epoch 1/1\n",
            "Training loss: 0.1689\n",
            "Epoch 1/1\n",
            "Training loss: 0.2568\n"
          ]
        }
      ],
      "source": [
        "#Différents learning rates\n",
        "batch_size=32\n",
        "model_lr_1 = build_model()\n",
        "loss_iterations_lr_1 = SGD(model_lr_1, x_train, y_train, learning_rate=0.1, epochs=1, batch_size = batch_size)\n",
        "model_lr_01 = build_model()\n",
        "loss_iterations_lr_01 = SGD(model_lr_01, x_train, y_train, learning_rate=0.01, epochs=1, batch_size = batch_size)\n",
        "model_lr_001 = build_model()\n",
        "loss_iterations_lr_001 = SGD(model_lr_001, x_train, y_train, learning_rate=0.001, epochs=1, batch_size = batch_size)"
      ]
    },
    {
      "cell_type": "code",
      "execution_count": 15,
      "id": "e1aa670d",
      "metadata": {},
      "outputs": [
        {
          "data": {
            "image/png": "[encoded data removed]",
            "text/plain": [
              "<Figure size 640x480 with 1 Axes>"
            ]
          },
          "metadata": {},
          "output_type": "display_data"
        }
      ],
      "source": [
        "plt.plot([i for i in range(0, len(x_train), batch_size)],loss_iterations_lr_1,label='lr = 0.1')\n",
        "plt.plot([i for i in range(0, len(x_train), batch_size)],loss_iterations_lr_01,label='lr = 0.01')\n",
        "plt.plot([i for i in range(0, len(x_train), batch_size)],loss_iterations_lr_001,label='lr = 0.001')\n",
        "plt.xlim(0, 20000)\n",
        "plt.ylim(0, 10)\n",
        "plt.xlabel(\"Itérations\")\n",
        "plt.legend()\n",
        "plt.show()"
      ]
    },
    {
      "cell_type": "markdown",
      "id": "40208e52",
      "metadata": {},
      "source": [
        "### Question 5.2\n",
        "\n",
        "D'après la formule de l'espérance de convergence, plus on augmente le learning rate $\\gamma$ plus on converge rapidement mais plus on a un palier élevé"
      ]
    },
    {
      "cell_type": "code",
      "execution_count": 16,
      "id": "0807b62b",
      "metadata": {},
      "outputs": [
        {
          "name": "stdout",
          "output_type": "stream",
          "text": [
            "Le mean-loss final pour une époque avec un lr de 0.01 est : 0.11504440009593964\n"
          ]
        }
      ],
      "source": [
        "print(f'Le mean-loss final pour une époque avec un lr de 0.01 est : {loss_iterations_lr_01[-1]}')"
      ]
    },
    {
      "cell_type": "code",
      "execution_count": 17,
      "id": "22210883",
      "metadata": {},
      "outputs": [
        {
          "name": "stdout",
          "output_type": "stream",
          "text": [
            "Le mean-loss final pour 5 époques avec un lr de 0.01 est : 0.08703245967626572\n"
          ]
        }
      ],
      "source": [
        "print(f'Le mean-loss final pour 5 époques avec un lr de 0.01 est : {mean_loss(model, x_train, y_train)}')"
      ]
    },
    {
      "cell_type": "markdown",
      "id": "ecd2d338",
      "metadata": {},
      "source": [
        "### Question 6.1\n",
        "On obtient effectivement de meilleures performances avec 5 époques qu'avec une seule pour un même learning rate"
      ]
    },
    {
      "cell_type": "markdown",
      "id": "90a7224a",
      "metadata": {},
      "source": [
        "### Question 6.2 et 6.3\n",
        "déjà faites précédemment"
      ]
    },
    {
      "cell_type": "code",
      "execution_count": null,
      "id": "bca5c100",
      "metadata": {},
      "outputs": [
        {
          "name": "stdout",
          "output_type": "stream",
          "text": [
            "Le mean-loss final pour 5 époques avec un lr de 0.01 est : 0.1725645810365677\n"
          ]
        }
      ],
      "source": [
        "x_test = test_data[0].reshape(-1,784).astype(float) / 255\n",
        "y_test = test_data[1]\n",
        "print(f'Le mean-loss final pour 5 époques avec un lr de 0.01 est : {mean_loss(model, x_test, y_test)}')"
      ]
    },
    {
      "cell_type": "markdown",
      "id": "6b3824dd",
      "metadata": {},
      "source": [
        "Les performances sont logiquement moins bonnes sur le test set que le train set mais on a une bonne précision de prédiction"
      ]
    }
  ],
  "metadata": {
    "colab": {
      "provenance": []
    },
    "kernelspec": {
      "display_name": "Python 3",
      "language": "python",
      "name": "python3"
    },
    "language_info": {
      "codemirror_mode": {
        "name": "ipython",
        "version": 3
      },
      "file_extension": ".py",
      "mimetype": "text/x-python",
      "name": "python",
      "nbconvert_exporter": "python",
      "pygments_lexer": "ipython3",
      "version": "3.9.6"
    }
  },
  "nbformat": 4,
  "nbformat_minor": 5
}
